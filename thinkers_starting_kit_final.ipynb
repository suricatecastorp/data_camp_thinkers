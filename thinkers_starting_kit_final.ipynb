{
 "cells": [
  {
   "cell_type": "markdown",
   "metadata": {},
   "source": [
    "# Influential Thinkers \n",
    "Authors:\n",
    "* Paul Roussel\n",
    "* Augustin Espinosa\n",
    "* Clément Liu\n",
    "* Pierre Fontaine\n",
    "* Runtian Zhang"
   ]
  },
  {
   "cell_type": "markdown",
   "metadata": {},
   "source": [
    "## Table of Contents\n",
    "\n",
    "0. [Introduction](#Introduction)\n",
    "1. [Data](#Data)\n",
    "3. [Score metric](#Score-metric)\n",
    "4. [Data exploration](#Data-exploration)\n",
    "5. [Predictions](#Predictions)"
   ]
  },
  {
   "cell_type": "markdown",
   "metadata": {},
   "source": [
    "## Introduction\n",
    "\n",
    "In this project, we are interested in the thinkers who have influenced the history of mankind. We know that a thinker is inspired by some of his predecessors and will also influence his successors. The aim of this project is to determine the existence of an influence of thought between two people."
   ]
  },
  {
   "cell_type": "markdown",
   "metadata": {},
   "source": [
    "![graph](img/graph.png)"
   ]
  },
  {
   "cell_type": "markdown",
   "metadata": {},
   "source": [
    "# Data\n",
    "\n",
    "## Link between thinkers\n",
    "\n",
    "This dataset was built from  [DBpedia](https://wiki.dbpedia.org/) which is a public database-like, indexed version of Wikipedia.  \n",
    "Each row represents a couple of two thinkers:\n",
    "   * `index` - arbitrary but unique integer identifier for a couple\n",
    "   * `thinker_1` - name of the first thinker\n",
    "   * `thinker_2` - name of the first thinker\n",
    "   * `link` - 1 if tinker_1 has influenced thinker_2, 0 otherwise"
   ]
  },
  {
   "cell_type": "markdown",
   "metadata": {},
   "source": [
    "## Thinkers data\n",
    "\n",
    "Using the [Wikipedia-API](https://pypi.org/project/Wikipedia-API/), data about the thinkers of the dataset is gathered.\n",
    "Each row represents a thinker:\n",
    "   * `name`\n",
    "   * `date_birth` - `date_death`: dates of birth and death (if known)\n",
    "   * `place_birth` - `place_death`: places of birth and death (if known)\n",
    "   * `summary`: Abstract extracted from the Wikipedia page of the corresponding author"
   ]
  },
  {
   "cell_type": "markdown",
   "metadata": {},
   "source": [
    "## Training and test\n",
    "\n",
    "The thinkers graph dataset has been split into 'training' and 'test' subsets. The shapes are:\n",
    "\n",
    "* training: (2 3296, 5)\n",
    "* test: (520 966, 5)"
   ]
  },
  {
   "cell_type": "markdown",
   "metadata": {},
   "source": [
    "## Score metric"
   ]
  },
  {
   "cell_type": "markdown",
   "metadata": {},
   "source": [
    "We use the precision score to evaluate the performance:\n",
    "\n",
    "$precision = \\frac{True Positive}{True Positive + False Positive}$"
   ]
  },
  {
   "cell_type": "markdown",
   "metadata": {},
   "source": [
    "# Data exploration"
   ]
  },
  {
   "cell_type": "code",
   "execution_count": 1,
   "metadata": {},
   "outputs": [],
   "source": [
    "%matplotlib inline\n",
    "import imp\n",
    "import pandas as pd\n",
    "import numpy as np\n",
    "from matplotlib import pyplot as plt\n",
    "import seaborn\n",
    "import nltk\n",
    "import re\n",
    "import matplotlib.cm as cm\n",
    "import matplotlib.colors as colors\n",
    "import seaborn as sns"
   ]
  },
  {
   "cell_type": "code",
   "execution_count": 2,
   "metadata": {},
   "outputs": [],
   "source": [
    "df_train = pd.read_csv('data/train.csv', index_col=0)\n",
    "df_test = pd.read_csv('data/test.csv', index_col=0)"
   ]
  },
  {
   "cell_type": "code",
   "execution_count": 9,
   "metadata": {},
   "outputs": [],
   "source": [
    "data = pd.read_csv('data/nodes_info_new.csv', index_col = 0)"
   ]
  },
  {
   "cell_type": "code",
   "execution_count": 4,
   "metadata": {},
   "outputs": [
    {
     "data": {
      "text/plain": [
       "Index(['id', 'thinker', 'birth_date', 'birth_place', 'death_date',\n",
       "       'death_place', 'summary'],\n",
       "      dtype='object')"
      ]
     },
     "execution_count": 4,
     "metadata": {},
     "output_type": "execute_result"
    }
   ],
   "source": [
    "data.columns"
   ]
  },
  {
   "cell_type": "markdown",
   "metadata": {},
   "source": [
    "## Preprocessing"
   ]
  },
  {
   "cell_type": "code",
   "execution_count": 5,
   "metadata": {},
   "outputs": [],
   "source": [
    "#The date information are in format of string which is very dirty. we define this funtion to clean the date, which might not be 100% accurate.\n",
    "def clean_date(s):\n",
    "    s = re.sub('[^0-9]', '', str(s))\n",
    "    if len(s)==0:\n",
    "        return np.nan\n",
    "    if s == '1':\n",
    "        return np.nan\n",
    "    if len(s)<4:\n",
    "        date = int(s)\n",
    "    else:\n",
    "        date = int(s[:4])\n",
    "        if date>2000:\n",
    "            date = int(s[:3])\n",
    "    return date\n",
    "\n",
    "data['birth_date'] = data['birth_date'].apply(clean_date)\n",
    "data['death_date'] = data['death_date'].apply(clean_date)"
   ]
  },
  {
   "cell_type": "code",
   "execution_count": 6,
   "metadata": {},
   "outputs": [
    {
     "data": {
      "text/html": [
       "<div>\n",
       "<style scoped>\n",
       "    .dataframe tbody tr th:only-of-type {\n",
       "        vertical-align: middle;\n",
       "    }\n",
       "\n",
       "    .dataframe tbody tr th {\n",
       "        vertical-align: top;\n",
       "    }\n",
       "\n",
       "    .dataframe thead th {\n",
       "        text-align: right;\n",
       "    }\n",
       "</style>\n",
       "<table border=\"1\" class=\"dataframe\">\n",
       "  <thead>\n",
       "    <tr style=\"text-align: right;\">\n",
       "      <th></th>\n",
       "      <th>id</th>\n",
       "      <th>thinker</th>\n",
       "      <th>birth_date</th>\n",
       "      <th>birth_place</th>\n",
       "      <th>death_date</th>\n",
       "      <th>death_place</th>\n",
       "      <th>summary</th>\n",
       "    </tr>\n",
       "  </thead>\n",
       "  <tbody>\n",
       "    <tr>\n",
       "      <th>0</th>\n",
       "      <td>1</td>\n",
       "      <td>Ferdinand de Saussure</td>\n",
       "      <td>1857.0</td>\n",
       "      <td>Geneva, Switzerland</td>\n",
       "      <td>1913.0</td>\n",
       "      <td>Vufflens-le-Château, Canton of Vaud|Vaud, Swit...</td>\n",
       "      <td>Ferdinand de Saussure (; French: [fɛʁdinɑ̃ də ...</td>\n",
       "    </tr>\n",
       "    <tr>\n",
       "      <th>1</th>\n",
       "      <td>2</td>\n",
       "      <td>Georg Wilhelm Friedrich Hegel</td>\n",
       "      <td>827.0</td>\n",
       "      <td>Stuttgart, Duchy of Württemberg</td>\n",
       "      <td>1831.0</td>\n",
       "      <td>Berlin, Kingdom of Prussia</td>\n",
       "      <td>Georg Wilhelm Friedrich Hegel (; German: [ˈɡeː...</td>\n",
       "    </tr>\n",
       "    <tr>\n",
       "      <th>2</th>\n",
       "      <td>3</td>\n",
       "      <td>Sigmund Freud</td>\n",
       "      <td>1856.0</td>\n",
       "      <td>Freiberg in Mähren, Moravia, Austrian Empire&lt;b...</td>\n",
       "      <td>1939.0</td>\n",
       "      <td>Hampstead, London, United Kingdom</td>\n",
       "      <td>Sigmund Freud ( FROYD; German: [ˈziːkmʊnt ˈfʁɔ...</td>\n",
       "    </tr>\n",
       "    <tr>\n",
       "      <th>3</th>\n",
       "      <td>4</td>\n",
       "      <td>Benjamin Tucker</td>\n",
       "      <td>1854.0</td>\n",
       "      <td>South Dartmouth, Massachusetts, United States</td>\n",
       "      <td>1939.0</td>\n",
       "      <td>Monaco</td>\n",
       "      <td>Benjamin Ricketson Tucker (; April 17, 1854 – ...</td>\n",
       "    </tr>\n",
       "    <tr>\n",
       "      <th>4</th>\n",
       "      <td>5</td>\n",
       "      <td>Brian O'Nolan</td>\n",
       "      <td>1911.0</td>\n",
       "      <td>Strabane, County Tyrone, Ireland</td>\n",
       "      <td>1966.0</td>\n",
       "      <td>Dublin, Ireland</td>\n",
       "      <td>Brian O'Nolan (Irish: Brian Ó Nualláin; 5 Octo...</td>\n",
       "    </tr>\n",
       "  </tbody>\n",
       "</table>\n",
       "</div>"
      ],
      "text/plain": [
       "   id                        thinker  birth_date  \\\n",
       "0   1          Ferdinand de Saussure      1857.0   \n",
       "1   2  Georg Wilhelm Friedrich Hegel       827.0   \n",
       "2   3                  Sigmund Freud      1856.0   \n",
       "3   4                Benjamin Tucker      1854.0   \n",
       "4   5                  Brian O'Nolan      1911.0   \n",
       "\n",
       "                                         birth_place  death_date  \\\n",
       "0                                Geneva, Switzerland      1913.0   \n",
       "1                    Stuttgart, Duchy of Württemberg      1831.0   \n",
       "2  Freiberg in Mähren, Moravia, Austrian Empire<b...      1939.0   \n",
       "3      South Dartmouth, Massachusetts, United States      1939.0   \n",
       "4                   Strabane, County Tyrone, Ireland      1966.0   \n",
       "\n",
       "                                         death_place  \\\n",
       "0  Vufflens-le-Château, Canton of Vaud|Vaud, Swit...   \n",
       "1                         Berlin, Kingdom of Prussia   \n",
       "2                  Hampstead, London, United Kingdom   \n",
       "3                                             Monaco   \n",
       "4                                    Dublin, Ireland   \n",
       "\n",
       "                                             summary  \n",
       "0  Ferdinand de Saussure (; French: [fɛʁdinɑ̃ də ...  \n",
       "1  Georg Wilhelm Friedrich Hegel (; German: [ˈɡeː...  \n",
       "2  Sigmund Freud ( FROYD; German: [ˈziːkmʊnt ˈfʁɔ...  \n",
       "3  Benjamin Ricketson Tucker (; April 17, 1854 – ...  \n",
       "4  Brian O'Nolan (Irish: Brian Ó Nualláin; 5 Octo...  "
      ]
     },
     "execution_count": 6,
     "metadata": {},
     "output_type": "execute_result"
    }
   ],
   "source": [
    "data.head()"
   ]
  },
  {
   "cell_type": "code",
   "execution_count": 7,
   "metadata": {},
   "outputs": [],
   "source": [
    "#Extracting country by taking the last word from birth_place and death_place\n",
    "def get_country(s):\n",
    "    s = re.sub('[^a-zA-Z ]', '', str(s))\n",
    "    if len(s)==0:\n",
    "        return np.nan\n",
    "    return s.split()[-1]\n",
    "data['birth_place'] = data['birth_place'].apply(get_country)\n",
    "data['death_place'] = data['death_place'].apply(get_country)"
   ]
  },
  {
   "cell_type": "code",
   "execution_count": 8,
   "metadata": {},
   "outputs": [
    {
     "data": {
      "text/html": [
       "<div>\n",
       "<style scoped>\n",
       "    .dataframe tbody tr th:only-of-type {\n",
       "        vertical-align: middle;\n",
       "    }\n",
       "\n",
       "    .dataframe tbody tr th {\n",
       "        vertical-align: top;\n",
       "    }\n",
       "\n",
       "    .dataframe thead th {\n",
       "        text-align: right;\n",
       "    }\n",
       "</style>\n",
       "<table border=\"1\" class=\"dataframe\">\n",
       "  <thead>\n",
       "    <tr style=\"text-align: right;\">\n",
       "      <th></th>\n",
       "      <th>id</th>\n",
       "      <th>thinker</th>\n",
       "      <th>birth_date</th>\n",
       "      <th>birth_place</th>\n",
       "      <th>death_date</th>\n",
       "      <th>death_place</th>\n",
       "      <th>summary</th>\n",
       "    </tr>\n",
       "  </thead>\n",
       "  <tbody>\n",
       "    <tr>\n",
       "      <th>0</th>\n",
       "      <td>1</td>\n",
       "      <td>Ferdinand de Saussure</td>\n",
       "      <td>1857.0</td>\n",
       "      <td>Switzerland</td>\n",
       "      <td>1913.0</td>\n",
       "      <td>Switzerland</td>\n",
       "      <td>Ferdinand de Saussure (; French: [fɛʁdinɑ̃ də ...</td>\n",
       "    </tr>\n",
       "    <tr>\n",
       "      <th>1</th>\n",
       "      <td>2</td>\n",
       "      <td>Georg Wilhelm Friedrich Hegel</td>\n",
       "      <td>827.0</td>\n",
       "      <td>Wrttemberg</td>\n",
       "      <td>1831.0</td>\n",
       "      <td>Prussia</td>\n",
       "      <td>Georg Wilhelm Friedrich Hegel (; German: [ˈɡeː...</td>\n",
       "    </tr>\n",
       "    <tr>\n",
       "      <th>2</th>\n",
       "      <td>3</td>\n",
       "      <td>Sigmund Freud</td>\n",
       "      <td>1856.0</td>\n",
       "      <td>Republic</td>\n",
       "      <td>1939.0</td>\n",
       "      <td>Kingdom</td>\n",
       "      <td>Sigmund Freud ( FROYD; German: [ˈziːkmʊnt ˈfʁɔ...</td>\n",
       "    </tr>\n",
       "    <tr>\n",
       "      <th>3</th>\n",
       "      <td>4</td>\n",
       "      <td>Benjamin Tucker</td>\n",
       "      <td>1854.0</td>\n",
       "      <td>States</td>\n",
       "      <td>1939.0</td>\n",
       "      <td>Monaco</td>\n",
       "      <td>Benjamin Ricketson Tucker (; April 17, 1854 – ...</td>\n",
       "    </tr>\n",
       "    <tr>\n",
       "      <th>4</th>\n",
       "      <td>5</td>\n",
       "      <td>Brian O'Nolan</td>\n",
       "      <td>1911.0</td>\n",
       "      <td>Ireland</td>\n",
       "      <td>1966.0</td>\n",
       "      <td>Ireland</td>\n",
       "      <td>Brian O'Nolan (Irish: Brian Ó Nualláin; 5 Octo...</td>\n",
       "    </tr>\n",
       "  </tbody>\n",
       "</table>\n",
       "</div>"
      ],
      "text/plain": [
       "   id                        thinker  birth_date  birth_place  death_date  \\\n",
       "0   1          Ferdinand de Saussure      1857.0  Switzerland      1913.0   \n",
       "1   2  Georg Wilhelm Friedrich Hegel       827.0   Wrttemberg      1831.0   \n",
       "2   3                  Sigmund Freud      1856.0     Republic      1939.0   \n",
       "3   4                Benjamin Tucker      1854.0       States      1939.0   \n",
       "4   5                  Brian O'Nolan      1911.0      Ireland      1966.0   \n",
       "\n",
       "   death_place                                            summary  \n",
       "0  Switzerland  Ferdinand de Saussure (; French: [fɛʁdinɑ̃ də ...  \n",
       "1      Prussia  Georg Wilhelm Friedrich Hegel (; German: [ˈɡeː...  \n",
       "2      Kingdom  Sigmund Freud ( FROYD; German: [ˈziːkmʊnt ˈfʁɔ...  \n",
       "3       Monaco  Benjamin Ricketson Tucker (; April 17, 1854 – ...  \n",
       "4      Ireland  Brian O'Nolan (Irish: Brian Ó Nualláin; 5 Octo...  "
      ]
     },
     "execution_count": 8,
     "metadata": {},
     "output_type": "execute_result"
    }
   ],
   "source": [
    "data.head()"
   ]
  },
  {
   "cell_type": "code",
   "execution_count": 9,
   "metadata": {},
   "outputs": [
    {
     "data": {
      "text/plain": [
       "id             7239\n",
       "thinker        7239\n",
       "birth_date      853\n",
       "birth_place     705\n",
       "death_date      727\n",
       "death_place     519\n",
       "summary        6883\n",
       "dtype: int64"
      ]
     },
     "execution_count": 9,
     "metadata": {},
     "output_type": "execute_result"
    }
   ],
   "source": [
    "data.nunique()"
   ]
  },
  {
   "cell_type": "code",
   "execution_count": 10,
   "metadata": {},
   "outputs": [
    {
     "data": {
      "text/plain": [
       "id               int64\n",
       "thinker         object\n",
       "birth_date     float64\n",
       "birth_place     object\n",
       "death_date     float64\n",
       "death_place     object\n",
       "summary         object\n",
       "dtype: object"
      ]
     },
     "execution_count": 10,
     "metadata": {},
     "output_type": "execute_result"
    }
   ],
   "source": [
    "data.dtypes"
   ]
  },
  {
   "cell_type": "code",
   "execution_count": 11,
   "metadata": {},
   "outputs": [
    {
     "data": {
      "text/plain": [
       "id             0.000000\n",
       "thinker        0.000000\n",
       "birth_date     0.119768\n",
       "birth_place    0.124188\n",
       "death_date     0.402404\n",
       "death_place    0.433762\n",
       "summary        0.000138\n",
       "dtype: float64"
      ]
     },
     "execution_count": 11,
     "metadata": {},
     "output_type": "execute_result"
    }
   ],
   "source": [
    "data.isna().sum()/data.shape[0]"
   ]
  },
  {
   "cell_type": "code",
   "execution_count": 12,
   "metadata": {},
   "outputs": [
    {
     "name": "stderr",
     "output_type": "stream",
     "text": [
      "C:\\Users\\auges\\Anaconda3\\lib\\site-packages\\statsmodels\\nonparametric\\kde.py:447: RuntimeWarning: invalid value encountered in greater\n",
      "  X = X[np.logical_and(X > clip[0], X < clip[1])] # won't work for two columns.\n",
      "C:\\Users\\auges\\Anaconda3\\lib\\site-packages\\statsmodels\\nonparametric\\kde.py:447: RuntimeWarning: invalid value encountered in less\n",
      "  X = X[np.logical_and(X > clip[0], X < clip[1])] # won't work for two columns.\n"
     ]
    },
    {
     "data": {
      "text/plain": [
       "<matplotlib.axes._subplots.AxesSubplot at 0x2180d343358>"
      ]
     },
     "execution_count": 12,
     "metadata": {},
     "output_type": "execute_result"
    },
    {
     "data": {
      "image/png": "[encoded data removed]",
      "text/plain": [
       "<Figure size 432x288 with 1 Axes>"
      ]
     },
     "metadata": {
      "needs_background": "light"
     },
     "output_type": "display_data"
    }
   ],
   "source": [
    "#Distribution of the birth date\n",
    "sns.kdeplot(data['birth_date'])"
   ]
  },
  {
   "cell_type": "code",
   "execution_count": 13,
   "metadata": {},
   "outputs": [
    {
     "data": {
      "text/plain": [
       "US         1047\n",
       "England     571\n",
       "States      358\n",
       "Empire      318\n",
       "France      233\n",
       "Name: birth_place, dtype: int64"
      ]
     },
     "execution_count": 13,
     "metadata": {},
     "output_type": "execute_result"
    }
   ],
   "source": [
    "#Counting according to birth place\n",
    "data['birth_place'].value_counts().head()"
   ]
  },
  {
   "cell_type": "markdown",
   "metadata": {},
   "source": [
    "## Integrating the node information into training data"
   ]
  },
  {
   "cell_type": "code",
   "execution_count": 14,
   "metadata": {},
   "outputs": [],
   "source": [
    "#defining a dictionary which contains information for each thinker according to their names\n",
    "thinker_dictionary = {}\n",
    "for i,row in data.iterrows():\n",
    "    thinker_dictionary[row['thinker']] = {'thinker_id': row['id'], 'birth_date': row['birth_date'], 'birth_place': row['birth_place'], 'death_place': row['death_place'], 'death_date': row['death_date'], 'summary': row['summary']}"
   ]
  },
  {
   "cell_type": "code",
   "execution_count": 15,
   "metadata": {},
   "outputs": [],
   "source": [
    "#Integrating node information from full_wiki_data to train and test\n",
    "def integrate_data(df, thinker_dictionary=thinker_dictionary):\n",
    "    df_new = df.copy()\n",
    "    feature_names = ['thinker_id', 'birth_date', 'birth_place', 'death_place', 'death_date', 'summary']\n",
    "    for feature_name in feature_names:\n",
    "        dtype = 'object'\n",
    "        if 'date' in feature_name:\n",
    "            dtype = 'float64'\n",
    "        df_new[feature_name+'_1'] = pd.Series(dtype=dtype)\n",
    "        df_new[feature_name+'_2'] = pd.Series(dtype=dtype)\n",
    "        for i in df_new.index:\n",
    "            try:\n",
    "                df_new.at[i,feature_name+'_1'] = thinker_dictionary[df_new.loc[i,'thinker_1']][feature_name]\n",
    "            except:\n",
    "                pass\n",
    "            try:\n",
    "                df_new.at[i,feature_name+'_2'] = thinker_dictionary[df_new.loc[i,'thinker_2']][feature_name]\n",
    "            except:\n",
    "                pass\n",
    "    return df_new"
   ]
  },
  {
   "cell_type": "code",
   "execution_count": 16,
   "metadata": {},
   "outputs": [],
   "source": [
    "#Do the transformation for train and test\n",
    "df_train=integrate_data(df_train)\n",
    "df_test=integrate_data(df_test)"
   ]
  },
  {
   "cell_type": "code",
   "execution_count": 17,
   "metadata": {},
   "outputs": [
    {
     "data": {
      "text/html": [
       "<div>\n",
       "<style scoped>\n",
       "    .dataframe tbody tr th:only-of-type {\n",
       "        vertical-align: middle;\n",
       "    }\n",
       "\n",
       "    .dataframe tbody tr th {\n",
       "        vertical-align: top;\n",
       "    }\n",
       "\n",
       "    .dataframe thead th {\n",
       "        text-align: right;\n",
       "    }\n",
       "</style>\n",
       "<table border=\"1\" class=\"dataframe\">\n",
       "  <thead>\n",
       "    <tr style=\"text-align: right;\">\n",
       "      <th></th>\n",
       "      <th>index</th>\n",
       "      <th>thinker_1</th>\n",
       "      <th>thinker_2</th>\n",
       "      <th>link</th>\n",
       "      <th>thinker_id_1</th>\n",
       "      <th>thinker_id_2</th>\n",
       "      <th>birth_date_1</th>\n",
       "      <th>birth_date_2</th>\n",
       "      <th>birth_place_1</th>\n",
       "      <th>birth_place_2</th>\n",
       "      <th>death_place_1</th>\n",
       "      <th>death_place_2</th>\n",
       "      <th>death_date_1</th>\n",
       "      <th>death_date_2</th>\n",
       "      <th>summary_1</th>\n",
       "      <th>summary_2</th>\n",
       "    </tr>\n",
       "  </thead>\n",
       "  <tbody>\n",
       "    <tr>\n",
       "      <th>0</th>\n",
       "      <td>25830</td>\n",
       "      <td>Barnett Newman</td>\n",
       "      <td>Robert Ryman</td>\n",
       "      <td>1</td>\n",
       "      <td>2369</td>\n",
       "      <td>4569</td>\n",
       "      <td>1905.0</td>\n",
       "      <td>1930.0</td>\n",
       "      <td>City</td>\n",
       "      <td>US</td>\n",
       "      <td>City</td>\n",
       "      <td>US</td>\n",
       "      <td>1970.0</td>\n",
       "      <td>201.0</td>\n",
       "      <td>Barnett Newman (January 29, 1905 – July 4, 197...</td>\n",
       "      <td>Robert Ryman (May 30, 1930 – February 8, 2019)...</td>\n",
       "    </tr>\n",
       "    <tr>\n",
       "      <th>1</th>\n",
       "      <td>6536</td>\n",
       "      <td>Rainer Maria Rilke</td>\n",
       "      <td>Jim Starlin</td>\n",
       "      <td>0</td>\n",
       "      <td>234</td>\n",
       "      <td>2450</td>\n",
       "      <td>1875.0</td>\n",
       "      <td>1949.0</td>\n",
       "      <td>AustriaHungary</td>\n",
       "      <td>Michigan</td>\n",
       "      <td>Switzerland</td>\n",
       "      <td>NaN</td>\n",
       "      <td>1926.0</td>\n",
       "      <td>NaN</td>\n",
       "      <td>René Karl Wilhelm Johann Josef Maria Rilke (4 ...</td>\n",
       "      <td>James P. Starlin (born October 9, 1949) is an ...</td>\n",
       "    </tr>\n",
       "    <tr>\n",
       "      <th>2</th>\n",
       "      <td>6223</td>\n",
       "      <td>John Steinbeck</td>\n",
       "      <td>Ed Vega</td>\n",
       "      <td>1</td>\n",
       "      <td>2142</td>\n",
       "      <td>6222</td>\n",
       "      <td>227.0</td>\n",
       "      <td>1936.0</td>\n",
       "      <td>US</td>\n",
       "      <td>Rico</td>\n",
       "      <td>US</td>\n",
       "      <td>York</td>\n",
       "      <td>1968.0</td>\n",
       "      <td>200.0</td>\n",
       "      <td>John Ernst Steinbeck Jr. (; February 27, 1902 ...</td>\n",
       "      <td>Edgardo Vega Yunqué (May 20, 1936 – August 26,...</td>\n",
       "    </tr>\n",
       "    <tr>\n",
       "      <th>3</th>\n",
       "      <td>533</td>\n",
       "      <td>Herbert Spencer</td>\n",
       "      <td>Augusto dos Anjos</td>\n",
       "      <td>1</td>\n",
       "      <td>386</td>\n",
       "      <td>6479</td>\n",
       "      <td>1820.0</td>\n",
       "      <td>1884.0</td>\n",
       "      <td>England</td>\n",
       "      <td>Brazil</td>\n",
       "      <td>England</td>\n",
       "      <td>Brazil</td>\n",
       "      <td>1903.0</td>\n",
       "      <td>1914.0</td>\n",
       "      <td>Herbert Spencer (27 April 1820 – 8 December 19...</td>\n",
       "      <td>Augusto de Carvalho Rodrigues dos Anjos (April...</td>\n",
       "    </tr>\n",
       "    <tr>\n",
       "      <th>4</th>\n",
       "      <td>21051</td>\n",
       "      <td>Kostas Axelos</td>\n",
       "      <td>Ivan Illich</td>\n",
       "      <td>0</td>\n",
       "      <td>274</td>\n",
       "      <td>745</td>\n",
       "      <td>1924.0</td>\n",
       "      <td>1926.0</td>\n",
       "      <td>Athens</td>\n",
       "      <td>Austria</td>\n",
       "      <td>Paris</td>\n",
       "      <td>Germany</td>\n",
       "      <td>201.0</td>\n",
       "      <td>200.0</td>\n",
       "      <td>Kostas Axelos (also spelled Costas Axelos; Gre...</td>\n",
       "      <td>Ivan Illich (; 4 September 1926 – 2 December 2...</td>\n",
       "    </tr>\n",
       "  </tbody>\n",
       "</table>\n",
       "</div>"
      ],
      "text/plain": [
       "   index           thinker_1          thinker_2  link thinker_id_1  \\\n",
       "0  25830      Barnett Newman       Robert Ryman     1         2369   \n",
       "1   6536  Rainer Maria Rilke        Jim Starlin     0          234   \n",
       "2   6223      John Steinbeck            Ed Vega     1         2142   \n",
       "3    533     Herbert Spencer  Augusto dos Anjos     1          386   \n",
       "4  21051       Kostas Axelos        Ivan Illich     0          274   \n",
       "\n",
       "  thinker_id_2  birth_date_1  birth_date_2   birth_place_1 birth_place_2  \\\n",
       "0         4569        1905.0        1930.0            City            US   \n",
       "1         2450        1875.0        1949.0  AustriaHungary      Michigan   \n",
       "2         6222         227.0        1936.0              US          Rico   \n",
       "3         6479        1820.0        1884.0         England        Brazil   \n",
       "4          745        1924.0        1926.0          Athens       Austria   \n",
       "\n",
       "  death_place_1 death_place_2  death_date_1  death_date_2  \\\n",
       "0          City            US        1970.0         201.0   \n",
       "1   Switzerland           NaN        1926.0           NaN   \n",
       "2            US          York        1968.0         200.0   \n",
       "3       England        Brazil        1903.0        1914.0   \n",
       "4         Paris       Germany         201.0         200.0   \n",
       "\n",
       "                                           summary_1  \\\n",
       "0  Barnett Newman (January 29, 1905 – July 4, 197...   \n",
       "1  René Karl Wilhelm Johann Josef Maria Rilke (4 ...   \n",
       "2  John Ernst Steinbeck Jr. (; February 27, 1902 ...   \n",
       "3  Herbert Spencer (27 April 1820 – 8 December 19...   \n",
       "4  Kostas Axelos (also spelled Costas Axelos; Gre...   \n",
       "\n",
       "                                           summary_2  \n",
       "0  Robert Ryman (May 30, 1930 – February 8, 2019)...  \n",
       "1  James P. Starlin (born October 9, 1949) is an ...  \n",
       "2  Edgardo Vega Yunqué (May 20, 1936 – August 26,...  \n",
       "3  Augusto de Carvalho Rodrigues dos Anjos (April...  \n",
       "4  Ivan Illich (; 4 September 1926 – 2 December 2...  "
      ]
     },
     "execution_count": 17,
     "metadata": {},
     "output_type": "execute_result"
    }
   ],
   "source": [
    "df_train.head()"
   ]
  },
  {
   "cell_type": "markdown",
   "metadata": {},
   "source": [
    "## Adding extra feature and some exploration"
   ]
  },
  {
   "cell_type": "code",
   "execution_count": 18,
   "metadata": {},
   "outputs": [],
   "source": [
    "# Difference between dates of birth/death of each pair of thinkers\n",
    "df_train['birth_date_dif'] = df_train.apply(lambda x: abs(x.birth_date_1-x.birth_date_2), axis=1)\n",
    "df_test['birth_date_dif'] = df_test.apply(lambda x: abs(x.birth_date_1-x.birth_date_2), axis=1)"
   ]
  },
  {
   "cell_type": "code",
   "execution_count": 19,
   "metadata": {},
   "outputs": [
    {
     "data": {
      "text/plain": [
       "<matplotlib.axes._subplots.AxesSubplot at 0x2180d6b35f8>"
      ]
     },
     "execution_count": 19,
     "metadata": {},
     "output_type": "execute_result"
    },
    {
     "data": {
      "image/png": "[encoded data removed]",
      "text/plain": [
       "<Figure size 432x288 with 1 Axes>"
      ]
     },
     "metadata": {
      "needs_background": "light"
     },
     "output_type": "display_data"
    }
   ],
   "source": [
    "# Distribution of birth date difference for pairs of thinkers with a link\n",
    "sns.kdeplot(df_train[df_train['link']==1]['birth_date_dif'])"
   ]
  },
  {
   "cell_type": "code",
   "execution_count": 20,
   "metadata": {},
   "outputs": [
    {
     "data": {
      "text/plain": [
       "<matplotlib.axes._subplots.AxesSubplot at 0x2180da80550>"
      ]
     },
     "execution_count": 20,
     "metadata": {},
     "output_type": "execute_result"
    },
    {
     "data": {
      "image/png": "[encoded data removed]",
      "text/plain": [
       "<Figure size 432x288 with 1 Axes>"
      ]
     },
     "metadata": {
      "needs_background": "light"
     },
     "output_type": "display_data"
    }
   ],
   "source": [
    "# Distribution of birth date difference for pairs of thinkers without a link\n",
    "sns.kdeplot(df_train[df_train['link']==0]['birth_date_dif'])"
   ]
  },
  {
   "cell_type": "code",
   "execution_count": 21,
   "metadata": {},
   "outputs": [],
   "source": [
    "# Creating another feature of if the two thinkers are from the same country\n",
    "def same_country(s1, s2):\n",
    "    if isinstance(s1, float) or isinstance(s2, float):\n",
    "        return np.nan\n",
    "    return int(s1==s2)\n",
    "df_train['same_country'] = df_train.apply(lambda x: same_country(x.birth_place_1,x.birth_place_2), axis=1)\n",
    "df_test['same_country'] = df_test.apply(lambda x: same_country(x.birth_place_1,x.birth_place_2), axis=1)"
   ]
  },
  {
   "cell_type": "code",
   "execution_count": null,
   "metadata": {},
   "outputs": [],
   "source": []
  },
  {
   "cell_type": "code",
   "execution_count": 22,
   "metadata": {},
   "outputs": [
    {
     "name": "stdout",
     "output_type": "stream",
     "text": [
      "0.0    17112\n",
      "1.0     2423\n",
      "Name: same_country, dtype: int64\n"
     ]
    }
   ],
   "source": [
    "print(df_train['same_country'].value_counts())"
   ]
  },
  {
   "cell_type": "code",
   "execution_count": 23,
   "metadata": {},
   "outputs": [
    {
     "data": {
      "text/plain": [
       "0.0    7906\n",
       "1.0    1934\n",
       "Name: same_country, dtype: int64"
      ]
     },
     "execution_count": 23,
     "metadata": {},
     "output_type": "execute_result"
    }
   ],
   "source": [
    "# Thinkers with link\n",
    "df_train[df_train['link']==1]['same_country'].value_counts()"
   ]
  },
  {
   "cell_type": "code",
   "execution_count": 24,
   "metadata": {},
   "outputs": [
    {
     "data": {
      "text/plain": [
       "0.0    9206\n",
       "1.0     489\n",
       "Name: same_country, dtype: int64"
      ]
     },
     "execution_count": 24,
     "metadata": {},
     "output_type": "execute_result"
    }
   ],
   "source": [
    "# Thinkers without link\n",
    "df_train[df_train['link']==0]['same_country'].value_counts()"
   ]
  },
  {
   "cell_type": "markdown",
   "metadata": {},
   "source": [
    "# Graph properties"
   ]
  },
  {
   "cell_type": "markdown",
   "metadata": {},
   "source": [
    "The database of thinkers is actually a big graph : \n",
    "\n",
    "each thinker can be thought as a node of the graph and there is an edge between two thinkers if one has influenced the other.\n",
    "\n",
    "Strictly speaking, it is a directed graph, but we don't have information on who influenced who in the database. We will therfore have an undirected graph."
   ]
  },
  {
   "cell_type": "code",
   "execution_count": 25,
   "metadata": {},
   "outputs": [],
   "source": [
    "import networkx as nx\n",
    "from networkx.drawing.nx_pylab import draw_networkx"
   ]
  },
  {
   "cell_type": "markdown",
   "metadata": {},
   "source": [
    "Let's take a look at a portion of the graph (only the 100 first thinkers)"
   ]
  },
  {
   "cell_type": "code",
   "execution_count": 26,
   "metadata": {},
   "outputs": [
    {
     "name": "stderr",
     "output_type": "stream",
     "text": [
      "C:\\Users\\auges\\Anaconda3\\lib\\site-packages\\ipykernel_launcher.py:4: UserWarning: Boolean Series key will be reindexed to match DataFrame index.\n",
      "  after removing the cwd from sys.path.\n"
     ]
    }
   ],
   "source": [
    "# Small graph\n",
    "small_nodes = np.arange(1,100)\n",
    "\n",
    "small_edges = df_train[df_train['link']==1][(df_train['thinker_id_1']<100)&(df_train['thinker_id_2']<100)][['thinker_id_1','thinker_id_2']]\n",
    "\n",
    "small_G = nx.Graph()\n",
    "small_G.add_nodes_from(small_nodes)\n",
    "small_G.add_edges_from(small_edges.values)"
   ]
  },
  {
   "cell_type": "code",
   "execution_count": 27,
   "metadata": {},
   "outputs": [
    {
     "data": {
      "image/png": "[encoded data removed]",
      "text/plain": [
       "<Figure size 432x288 with 1 Axes>"
      ]
     },
     "metadata": {},
     "output_type": "display_data"
    }
   ],
   "source": [
    "#Careful not to plot big graphs\n",
    "draw_networkx(small_G,with_labels=False,node_size=20,alpha=0.7)"
   ]
  },
  {
   "cell_type": "markdown",
   "metadata": {},
   "source": [
    "We see that the graph appears to have one big group in the middle where all the thinkers seem to have influenced each other in one way or another. There also seems to be small distinct thinking beliefs in the fringe and a large number of thinkers who coexist without citing each other."
   ]
  },
  {
   "cell_type": "markdown",
   "metadata": {},
   "source": [
    "# Predictions"
   ]
  },
  {
   "cell_type": "markdown",
   "metadata": {},
   "source": [
    "The submission is made with two files: `feature_extractor.py` built with the `FeatureExtractor` class, and `regressor.py` built with the `Regressor` class."
   ]
  },
  {
   "cell_type": "markdown",
   "metadata": {},
   "source": [
    "## Feature extractor"
   ]
  },
  {
   "cell_type": "code",
   "execution_count": 28,
   "metadata": {},
   "outputs": [],
   "source": [
    "import os\n",
    "import pandas as pd\n",
    "import numpy as np\n",
    "from sklearn.impute import SimpleImputer\n",
    "from sklearn.compose import ColumnTransformer\n",
    "from sklearn.pipeline import make_pipeline\n",
    "from sklearn.preprocessing import FunctionTransformer\n",
    "from sklearn.pipeline import Pipeline\n",
    "import nltk\n",
    "import networkx as nx\n",
    "from networkx.drawing.nx_pylab import draw_networkx\n",
    "from networkx.algorithms.centrality import degree_centrality,eigenvector_centrality,closeness_centrality\n",
    "from networkx.algorithms.centrality import betweenness_centrality,subgraph_centrality\n",
    "\n",
    "\n",
    "class FeatureExtractor(object):\n",
    "    def __init__(self):\n",
    "        nltk.download('punkt') # for tokenization\n",
    "        nltk.download('stopwords')\n",
    "        self.stpwds = set(nltk.corpus.stopwords.words(\"english\"))\n",
    "        self.stemmer = nltk.stem.PorterStemmer()\n",
    "        self.G = nx.Graph()\n",
    "        self.nodes = None\n",
    "        self.edges = None\n",
    "\n",
    "    def fit(self, X_df, y_array):\n",
    "        \n",
    "        y_array = pd.DataFrame(y_array)\n",
    "        y_array.columns = ['link']\n",
    "        \n",
    "        path = os.path.dirname(_file_)\n",
    "        self.data = pd.read_csv(os.path.join(path, 'data/nodes_info_new.csv'),low_memory=False)\n",
    "        \n",
    "        def clean_date(s):\n",
    "            s = re.sub('[^0-9]', '', str(s))\n",
    "            if len(s)==0:\n",
    "                return np.nan\n",
    "            if s == '1':\n",
    "                return np.nan\n",
    "            if len(s)<4:\n",
    "                date = int(s)\n",
    "            else:\n",
    "                date = int(s[:4])\n",
    "                if date>2000:\n",
    "                    date = int(s[:3])\n",
    "            return date\n",
    "\n",
    "        self.data['birth_date'] = self.data['birth_date'].apply(clean_date)\n",
    "        self.data['death_date'] = self.data['death_date'].apply(clean_date)\n",
    "        \n",
    "        def get_country(s):\n",
    "            s = re.sub('[^a-zA-Z ]', '', str(s))\n",
    "            if len(s)==0:\n",
    "                return np.nan\n",
    "            return s.split()[-1]\n",
    "        \n",
    "        self.data['birth_place'] = self.data['birth_place'].apply(get_country)\n",
    "        self.data['death_place'] = self.data['death_place'].apply(get_country)\n",
    "        \n",
    "        \n",
    "        #defining a dictionary which contains information for each thinker according to their names\n",
    "        self.thinker_dictionary = {}\n",
    "        for i,row in self.data.iterrows():\n",
    "            self.thinker_dictionary[row['thinker']] = {'thinker_id': row['id'], 'birth_date': row['birth_date'], 'birth_place': row['birth_place'], 'death_place': row['death_place'], 'death_date': row['death_date'], 'summary': row['summary']}\n",
    "        \n",
    "        \n",
    "        \n",
    "        max_id = self.data['id'].max()\n",
    "        self.nodes = np.arange(1,max_id+1)\n",
    "        \n",
    "        self.edges = np.array([[self.thinker_dictionary[row['thinker_1']]['thinker_id'],self.thinker_dictionary[row['thinker_2']]['thinker_id']] for i,row in (X_df.loc[(y_array['link']==1).values.flatten(),:]).iterrows()])\n",
    "        \n",
    "        self.G.add_nodes_from(self.nodes)\n",
    "        self.G.add_edges_from(self.edges)\n",
    "        \n",
    "        self.graph_features = pd.DataFrame({'thinker_id':self.nodes})\n",
    "        self.connected_comp = list(nx.connected_components(self.G))\n",
    "        \n",
    "        group_id = {}\n",
    "        group_len = {}\n",
    "        for think_id in self.nodes:\n",
    "            for i,group in enumerate(self.connected_comp):\n",
    "                if think_id in group:\n",
    "                    group_id[think_id] = i\n",
    "                    group_len[think_id] = len(group)\n",
    "                    break\n",
    "\n",
    "        self.graph_features['connected_comp'] = [group_id[think_id] for think_id in self.nodes]\n",
    "        self.graph_features['connected_comp_len'] = [group_len[think_id] for think_id in self.nodes]\n",
    "        \n",
    "        self.graph_features['degree_centrality'] = degree_centrality(self.G).values()\n",
    "        self.graph_features['degree_centrality']/=self.graph_features['degree_centrality'].max()\n",
    "        \n",
    "        self.graph_features['eigenvector_centrality'] = eigenvector_centrality(self.G).values()\n",
    "        self.graph_features['eigenvector_centrality']/=self.graph_features['eigenvector_centrality'].max()\n",
    "\n",
    "        self.graph_features['closeness_centrality'] = closeness_centrality(self.G).values()\n",
    "        self.graph_features['closeness_centrality']/=self.graph_features['closeness_centrality'].max()\n",
    "\n",
    "        self.graph_features['betweenness_centrality'] = betweenness_centrality(self.G).values()\n",
    "        self.graph_features['betweenness_centrality']/=self.graph_features['betweenness_centrality'].max()\n",
    "\n",
    "        self.graph_features['subgraph_centrality'] = subgraph_centrality(self.G).values()\n",
    "        self.graph_features['subgraph_centrality']/=self.graph_features['subgraph_centrality'].max()\n",
    "\n",
    "        self.graph_features['pagerank'] = nx.pagerank(self.G, alpha=0.9).values()\n",
    "        self.graph_features['pagerank']/=self.graph_features['pagerank'].max()\n",
    "        \n",
    "        \n",
    "        \n",
    "        \n",
    "        return self\n",
    "\n",
    "    def transform(self, X_df):\n",
    "        \n",
    "        #Integrating node information from full_wiki_data to train and test\n",
    "        def integrate_data(df, thinker_dictionary=self.thinker_dictionary):\n",
    "            df_new = df.copy()\n",
    "            feature_names = ['thinker_id', 'birth_date', 'birth_place', 'death_place', 'death_date', 'summary']\n",
    "            for feature_name in feature_names:\n",
    "                dtype = 'object'\n",
    "                if 'date' in feature_name:\n",
    "                    dtype = 'float64'\n",
    "                df_new[feature_name+'_1'] = pd.Series(dtype=dtype)\n",
    "                df_new[feature_name+'_2'] = pd.Series(dtype=dtype)\n",
    "                for i in df_new.index:\n",
    "                    try:\n",
    "                        df_new.at[i,feature_name+'_1'] = thinker_dictionary[df_new.loc[i,'thinker_1']][feature_name]\n",
    "                    except:\n",
    "                        pass\n",
    "                    try:\n",
    "                        df_new.at[i,feature_name+'_2'] = thinker_dictionary[df_new.loc[i,'thinker_2']][feature_name]\n",
    "                    except:\n",
    "                        pass\n",
    "            return df_new\n",
    "        \n",
    "        X_encoded = integrate_data(X_df)\n",
    "        \n",
    "        X_encoded['birth_date_dif'] = X_encoded.apply(lambda x: abs(x.birth_date_1-x.birth_date_2), axis=1)\n",
    "        \n",
    "        def same_country(s1, s2):\n",
    "            if isinstance(s1, float) or isinstance(s2, float):\n",
    "                return np.nan\n",
    "            return int(s1==s2)\n",
    "        X_encoded['same_country'] = X_encoded.apply(lambda x: same_country(x.birth_place_1,x.birth_place_2), axis=1)\n",
    "        \n",
    "        \n",
    "        left_graph = self.graph_features.rename(columns=lambda name:name+'_1')\n",
    "        right_graph = self.graph_features.rename(columns=lambda name:name+'_2')\n",
    "        \n",
    "        X_encoded = pd.merge(X_encoded,left_graph,left_on='thinker_id_1',right_on='thinker_id_1',how='left')\n",
    "        X_encoded = pd.merge(X_encoded,right_graph,left_on='thinker_id_2',right_on='thinker_id_2',how='left')\n",
    "        \n",
    "        def clean(text):\n",
    "            text_tokenized = text.lower().split(\" \")\n",
    "            # remove stopwords\n",
    "            text_tokenized = [token for token in text_tokenized if token not in self.stpwds]\n",
    "            text_cleaned = [self.stemmer.stem(token) for token in text_tokenized]\n",
    "            return(text_cleaned)\n",
    "        \n",
    "        def overlap_text(X):\n",
    "            summary_1 = list(X['summary_1'])\n",
    "            summary_2 = list(X['summary_2'])\n",
    "            list_overlap = []\n",
    "            for i in range(len(summary_1)):\n",
    "                text1_token = clean(str(summary_1[i]))\n",
    "                text2_token = clean(str(summary_2[i]))\n",
    "                list_overlap.append(len(set(text1_token).intersection(set(text2_token))))\n",
    "            return(np.array(list_overlap).reshape(-1, 1))\n",
    "        overlap_text_transformer = FunctionTransformer(overlap_text, validate=False)\n",
    "\n",
    "        def to_num(X):\n",
    "            return(X.apply(func=(lambda x: pd.to_numeric(x, errors='coerce'))).values)\n",
    "        to_num_transformer = FunctionTransformer(to_num, validate=False)\n",
    "        numeric_transformer = Pipeline(steps=[('to_num',to_num_transformer),\n",
    "                                              ('impute', SimpleImputer(strategy='median'))])\n",
    "\n",
    "        graph_cols = ['connected_comp','connected_comp_len','degree_centrality','eigenvector_centrality',\n",
    "                      'closeness_centrality','betweenness_centrality',\n",
    "                      'subgraph_centrality',\n",
    "                      'pagerank']\n",
    "        \n",
    "        num_cols = ['birth_date_1','birth_date_2','death_date_1','death_date_2',]\n",
    "        num_cols += [col+'_1' for col in graph_cols]\n",
    "        num_cols += [col+'_2' for col in graph_cols]\n",
    "\n",
    "        summary_cols = ['summary_1', 'summary_2']\n",
    "        drop_cols = ['thinker_1','thinker_2','thinker_id_1','thinker_id_2','birth_place_1',\n",
    "                     'birth_place_2','death_place_1','death_place_2']\n",
    "\n",
    "        preprocessor = ColumnTransformer(\n",
    "            transformers=[\n",
    "                ('num', numeric_transformer, num_cols),\n",
    "                ('overlap_text', make_pipeline(overlap_text_transformer, SimpleImputer(strategy='median')), summary_cols),\n",
    "                ('drop cols', 'drop', drop_cols),\n",
    "                ])\n",
    "\n",
    "        X_array = preprocessor.fit_transform(X_encoded)\n",
    "        \n",
    "        return X_array"
   ]
  },
  {
   "cell_type": "markdown",
   "metadata": {},
   "source": [
    "## Regressor"
   ]
  },
  {
   "cell_type": "code",
   "execution_count": 4,
   "metadata": {},
   "outputs": [],
   "source": [
    "from sklearn.ensemble import RandomForestRegressor\n",
    "from sklearn.base import BaseEstimator\n",
    "\n",
    "\n",
    "class Regressor(BaseEstimator):\n",
    "    def __init__(self):\n",
    "        self.reg = RandomForestRegressor(n_estimators=5)\n",
    "\n",
    "    def fit(self, X, y):\n",
    "        self.reg.fit(X, y)\n",
    "\n",
    "    def predict(self, X):\n",
    "        return np.array([int(x > 0.5) for x in self.reg.predict(X)])"
   ]
  },
  {
   "cell_type": "code",
   "execution_count": 5,
   "metadata": {},
   "outputs": [],
   "source": [
    "X_train = df_train.loc[:, df_train.columns!='link']\n",
    "y_train = df_train.loc[:, ['link']] \n",
    "X_test = df_test.loc[:, df_test.columns!='link']\n",
    "y_test = df_test.loc[:, ['link']] "
   ]
  },
  {
   "cell_type": "markdown",
   "metadata": {},
   "source": [
    "# Create model"
   ]
  },
  {
   "cell_type": "code",
   "execution_count": 65,
   "metadata": {},
   "outputs": [],
   "source": [
    "from sklearn.metrics import log_loss\n",
    "from sklearn.metrics import make_scorer\n",
    "from sklearn.metrics import f1_score\n",
    "\n",
    "influencer_loss = make_scorer(f1_score, greater_is_better=False)"
   ]
  },
  {
   "cell_type": "code",
   "execution_count": 66,
   "metadata": {
    "scrolled": false
   },
   "outputs": [
    {
     "name": "stderr",
     "output_type": "stream",
     "text": [
      "[nltk_data] Downloading package punkt to\n",
      "[nltk_data]     C:\\Users\\auges\\AppData\\Roaming\\nltk_data...\n",
      "[nltk_data]   Package punkt is already up-to-date!\n",
      "[nltk_data] Downloading package stopwords to\n",
      "[nltk_data]     C:\\Users\\auges\\AppData\\Roaming\\nltk_data...\n",
      "[nltk_data]   Package stopwords is already up-to-date!\n"
     ]
    },
    {
     "name": "stdout",
     "output_type": "stream",
     "text": [
      "1\n",
      "2\n",
      "3\n"
     ]
    },
    {
     "name": "stderr",
     "output_type": "stream",
     "text": [
      "C:\\Users\\auges\\Anaconda3\\lib\\site-packages\\ipykernel_launcher.py:10: DataConversionWarning: A column-vector y was passed when a 1d array was expected. Please change the shape of y to (n_samples,), for example using ravel().\n",
      "  # Remove the CWD from sys.path while we load stuff.\n"
     ]
    },
    {
     "data": {
      "text/plain": [
       "Pipeline(memory=None,\n",
       "         steps=[('featureextractor',\n",
       "                 <__main__.FeatureExtractor object at 0x0000021811514208>),\n",
       "                ('regressor', Regressor())],\n",
       "         verbose=False)"
      ]
     },
     "execution_count": 66,
     "metadata": {},
     "output_type": "execute_result"
    }
   ],
   "source": [
    "model = make_pipeline(FeatureExtractor(), Regressor())\n",
    "model.fit(X_train, y_train)"
   ]
  },
  {
   "cell_type": "code",
   "execution_count": 67,
   "metadata": {
    "scrolled": true
   },
   "outputs": [
    {
     "name": "stdout",
     "output_type": "stream",
     "text": [
      "2\n",
      "3\n"
     ]
    }
   ],
   "source": [
    "y_pred = model.predict(X_test)"
   ]
  },
  {
   "cell_type": "code",
   "execution_count": 68,
   "metadata": {},
   "outputs": [
    {
     "data": {
      "text/plain": [
       "0.8948059253703357"
      ]
     },
     "execution_count": 68,
     "metadata": {},
     "output_type": "execute_result"
    }
   ],
   "source": [
    "f1_score(y_pred, y_test)"
   ]
  },
  {
   "cell_type": "markdown",
   "metadata": {},
   "source": [
    "## Cross validation"
   ]
  },
  {
   "cell_type": "code",
   "execution_count": null,
   "metadata": {},
   "outputs": [],
   "source": [
    "from sklearn.model_selection import cross_val_score\n",
    "\n",
    "clf = make_pipeline(FeatureExtractor(), Regressor())\n",
    "cv = GroupShuffleSplit(n_splits=5, test_size=0.25)\n",
    "scores = cross_validate(clf, X_train, y_train, scoring=influencer_loss, cv=cv, n_jobs=1)\n",
    "\n",
    "print(\"mean: %e (+/- %e)\" % (scores_merge.mean(), scores_merge.std()))"
   ]
  },
  {
   "cell_type": "code",
   "execution_count": null,
   "metadata": {},
   "outputs": [],
   "source": []
  },
  {
   "cell_type": "markdown",
   "metadata": {},
   "source": [
    "# Local testing (before submission)"
   ]
  },
  {
   "cell_type": "code",
   "execution_count": null,
   "metadata": {},
   "outputs": [],
   "source": [
    "!ramp_test_submission --submission starting_kit --quick-test"
   ]
  }
 ],
 "metadata": {
  "kernelspec": {
   "display_name": "Python 3",
   "language": "python",
   "name": "python3"
  },
  "language_info": {
   "codemirror_mode": {
    "name": "ipython",
    "version": 3
   },
   "file_extension": ".py",
   "mimetype": "text/x-python",
   "name": "python",
   "nbconvert_exporter": "python",
   "pygments_lexer": "ipython3",
   "version": "3.6.5"
  }
 },
 "nbformat": 4,
 "nbformat_minor": 2
}
